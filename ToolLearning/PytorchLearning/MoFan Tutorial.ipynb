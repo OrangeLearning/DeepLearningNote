{
 "cells": [
  {
   "cell_type": "markdown",
   "metadata": {},
   "source": [
    "# Mofan Tutorial\n",
    "***\n",
    "\n",
    "> Pytorch 可以被称为 神经网络界的 Numpy"
   ]
  },
  {
   "cell_type": "code",
   "execution_count": 2,
   "metadata": {},
   "outputs": [
    {
     "name": "stdout",
     "output_type": "stream",
     "text": [
      "Numpy = \n",
      " [[0 1 2]\n",
      " [3 4 5]] \n",
      " Torch = \n",
      " tensor([[0, 1, 2],\n",
      "        [3, 4, 5]]) \n",
      "\n"
     ]
    }
   ],
   "source": [
    "import torch\n",
    "import numpy as np\n",
    "\n",
    "np_data = np.arange(6).reshape(2,3)\n",
    "torch_data = torch.from_numpy(np_data)\n",
    "\n",
    "\n",
    "print(\"Numpy = \\n\", np_data,\"\\n\",\n",
    "      \"Torch = \\n\", torch_data,\"\\n\")"
   ]
  },
  {
   "cell_type": "code",
   "execution_count": null,
   "metadata": {},
   "outputs": [],
   "source": []
  }
 ],
 "metadata": {
  "kernelspec": {
   "display_name": "Python 3",
   "language": "python",
   "name": "python3"
  },
  "language_info": {
   "codemirror_mode": {
    "name": "ipython",
    "version": 3
   },
   "file_extension": ".py",
   "mimetype": "text/x-python",
   "name": "python",
   "nbconvert_exporter": "python",
   "pygments_lexer": "ipython3",
   "version": "3.6.5"
  }
 },
 "nbformat": 4,
 "nbformat_minor": 2
}
