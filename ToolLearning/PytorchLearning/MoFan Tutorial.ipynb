{
 "cells": [
  {
   "cell_type": "markdown",
   "metadata": {},
   "source": [
    "# Mofan Tutorial\n",
    "***\n",
    "\n",
    "> Pytorch 可以被称为 神经网络界的 Numpy"
   ]
  },
  {
   "cell_type": "markdown",
   "metadata": {},
   "source": [
    "## 1. Pytorch 和 Numpy 对比"
   ]
  },
  {
   "cell_type": "code",
   "execution_count": 1,
   "metadata": {},
   "outputs": [
    {
     "name": "stdout",
     "output_type": "stream",
     "text": [
      "Numpy = \n",
      " [[0 1 2]\n",
      " [3 4 5]] \n",
      " Torch = \n",
      " tensor([[0, 1, 2],\n",
      "        [3, 4, 5]]) \n",
      " Tensor2Array = \n",
      " [[0 1 2]\n",
      " [3 4 5]] \n",
      "\n"
     ]
    }
   ],
   "source": [
    "import torch\n",
    "import numpy as np\n",
    "\n",
    "np_data = np.arange(6).reshape(2,3)\n",
    "torch_data = torch.from_numpy(np_data)\n",
    "tensor2array = torch_data.numpy()\n",
    "\n",
    "print(\"Numpy = \\n\", np_data,\"\\n\",\n",
    "      \"Torch = \\n\", torch_data,\"\\n\",\n",
    "      \"Tensor2Array = \\n\",tensor2array,\"\\n\")"
   ]
  },
  {
   "cell_type": "markdown",
   "metadata": {},
   "source": [
    "上面这里展示了如何将numpy和tensor进行查找，下面我们将介绍一些简单的运算符。"
   ]
  },
  {
   "cell_type": "code",
   "execution_count": 4,
   "metadata": {},
   "outputs": [
    {
     "name": "stdout",
     "output_type": "stream",
     "text": [
      "\n",
      "numpy =  [[ 7 10]\n",
      " [15 22]] \n",
      "torch =  tensor([[ 7., 10.],\n",
      "        [15., 22.]])\n"
     ]
    }
   ],
   "source": [
    "# 具体请查询官网\n",
    "import torch\n",
    "import numpy as np\n",
    "\n",
    "data = [[1,2],[3,4]]\n",
    "tensor = torch.FloatTensor(data)\n",
    "\n",
    "print(\n",
    "    \"\\nnumpy = \", np.matmul(data,data),\n",
    "    \"\\ntorch = \", torch.mm(tensor,tensor)\n",
    ")"
   ]
  },
  {
   "cell_type": "markdown",
   "metadata": {},
   "source": [
    "注意到numpy的matmul 和 dot 的差异，因此有必要看对比一下"
   ]
  },
  {
   "cell_type": "code",
   "execution_count": 6,
   "metadata": {},
   "outputs": [
    {
     "ename": "RuntimeError",
     "evalue": "dot: Expected 1-D argument self, but got 2-D",
     "traceback": [
      "\u001b[1;31m---------------------------------------------------------------------------\u001b[0m",
      "\u001b[1;31mRuntimeError\u001b[0m                              Traceback (most recent call last)",
      "\u001b[1;32m<ipython-input-6-3e89f9c9c957>\u001b[0m in \u001b[0;36m<module>\u001b[1;34m\u001b[0m\n\u001b[0;32m      8\u001b[0m print(\n\u001b[0;32m      9\u001b[0m     \u001b[1;34m\"\\nnumpy:\"\u001b[0m \u001b[1;33m,\u001b[0m \u001b[0mdata\u001b[0m\u001b[1;33m.\u001b[0m\u001b[0mdot\u001b[0m\u001b[1;33m(\u001b[0m\u001b[0mdata\u001b[0m\u001b[1;33m)\u001b[0m\u001b[1;33m,\u001b[0m\u001b[1;33m\u001b[0m\u001b[1;33m\u001b[0m\u001b[0m\n\u001b[1;32m---> 10\u001b[1;33m     \u001b[1;34m\"\\ntorch:\"\u001b[0m \u001b[1;33m,\u001b[0m \u001b[0mtensor\u001b[0m\u001b[1;33m.\u001b[0m\u001b[0mdot\u001b[0m\u001b[1;33m(\u001b[0m\u001b[0mtensor\u001b[0m\u001b[1;33m)\u001b[0m\u001b[1;33m\u001b[0m\u001b[1;33m\u001b[0m\u001b[0m\n\u001b[0m\u001b[0;32m     11\u001b[0m )\n",
      "\u001b[1;31mRuntimeError\u001b[0m: dot: Expected 1-D argument self, but got 2-D"
     ],
     "output_type": "error"
    }
   ],
   "source": [
    "import numpy as np\n",
    "import torch\n",
    "\n",
    "data = [[1,2],[3,4]]\n",
    "tensor = torch.tensor(data)\n",
    "data = np.array(data)\n",
    "tensor_dot_answer = torch.tensordot(tensor,tensor)\n",
    "print(\n",
    "    \"\\nnumpy:\" , data.dot(data),\n",
    "    \"\\ntorch:\" , tensor.dot(tensor)\n",
    ")"
   ]
  },
  {
   "cell_type": "code",
   "execution_count": null,
   "metadata": {},
   "outputs": [],
   "source": []
  }
 ],
 "metadata": {
  "kernelspec": {
   "display_name": "Python 3",
   "language": "python",
   "name": "python3"
  },
  "language_info": {
   "codemirror_mode": {
    "name": "ipython",
    "version": 3
   },
   "file_extension": ".py",
   "mimetype": "text/x-python",
   "name": "python",
   "nbconvert_exporter": "python",
   "pygments_lexer": "ipython3",
   "version": "3.6.6"
  }
 },
 "nbformat": 4,
 "nbformat_minor": 2
}
